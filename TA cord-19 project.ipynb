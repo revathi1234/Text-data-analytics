{
 "cells": [
  {
   "cell_type": "markdown",
   "metadata": {},
   "source": [
    "#Exploring using full text of articles\n",
    "\n",
    "\n",
    "Imports and Loads"
   ]
  },
  {
   "cell_type": "code",
   "execution_count": 3,
   "metadata": {},
   "outputs": [],
   "source": [
    "import numpy as np\n",
    "import pandas as pd\n",
    "pd.set_option('display.max_colwidth', -1)\n",
    "\n",
    "\n",
    "\n",
    "import nltk\n",
    "from nltk.corpus import stopwords\n",
    "from nltk.tokenize import word_tokenize\n",
    "\n",
    "\n",
    "from pprint import pprint\n",
    "\n",
    "\n",
    "from sklearn.feature_extraction.text import CountVectorizer\n",
    "\n",
    "\n",
    "# Gensim\n",
    "import gensim\n",
    "import gensim.corpora as corpora\n",
    "from gensim.utils import simple_preprocess\n",
    "from gensim.models import CoherenceModel\n",
    "from gensim import matutils, models\n",
    "\n",
    "\n",
    "# spacy for lemmatization\n",
    "import spacy\n",
    "\n",
    "\n",
    "import warnings\n",
    "warnings.filterwarnings(\"ignore\",category=DeprecationWarning)"
   ]
  },
  {
   "cell_type": "markdown",
   "metadata": {},
   "source": [
    "\n",
    "\n",
    "\n",
    "FULL TEXT ANALYSIS \n",
    "\n",
    "\n"
   ]
  },
  {
   "cell_type": "code",
   "execution_count": 5,
   "metadata": {},
   "outputs": [],
   "source": [
    "import pandas as pd\n",
    "# ingest body text for articles \n",
    "df_covid = pd.read_csv('C:/Users/Revathi/subset1000.csv')# Articles combined. \n",
    "\n",
    "text = df_covid.drop([\"paper_id\",\"doi\",\"title_abstract_body\",\"Unnamed: 0\", \"abstract\", \"title\"], axis=1) # drop all columns except body_text\n",
    "words = []\n",
    "for ii in range(0,len(text)):\n",
    "    words.append(str(text.iloc[ii]['body_text']).split(\" \"))\n",
    "    \n",
    "# Build the bigram and trigram models\n",
    "bigram = gensim.models.Phrases(words, min_count=5, threshold=100) # higher threshold fewer phrases.\n",
    "trigram = gensim.models.Phrases(bigram[words], threshold=100)  \n",
    "\n",
    "# Faster way to get a sentence clubbed as a trigram/bigram\n",
    "bigram_mod = gensim.models.phrases.Phraser(bigram)\n",
    "trigram_mod = gensim.models.phrases.Phraser(trigram)"
   ]
  },
  {
   "cell_type": "code",
   "execution_count": 6,
   "metadata": {},
   "outputs": [],
   "source": [
    "# Define functions for stopwords, bigrams, trigrams and lemmatization\n",
    "def remove_stopwords(texts):\n",
    "    return [[word for word in simple_preprocess(str(doc)) if word not in stop_words] for doc in texts]\n",
    "def make_bigrams(texts):\n",
    "    return [bigram_mod[doc] for doc in texts]\n",
    "def make_trigrams(texts):\n",
    "    return [trigram_mod[bigram_mod[doc]] for doc in texts]\n",
    "def lemmatization(texts, allowed_postags=['NOUN', 'ADJ', 'VERB', 'ADV']):\n",
    "    \"\"\"https://spacy.io/api/annotation\"\"\"\n",
    "    texts_out = []\n",
    "    for sent in texts:\n",
    "        doc = nlp(\" \".join(sent)) \n",
    "        texts_out.append([token.lemma_ for token in doc if token.pos_ in allowed_postags])\n",
    "    return texts_out"
   ]
  },
  {
   "cell_type": "markdown",
   "metadata": {},
   "source": [
    "\n",
    "\n",
    "Natural Language Toolkit to remove English, French, and Spanish Stopwords. \n",
    "Extended the stopwords to include Medical terms. \n",
    "\n",
    "\n"
   ]
  },
  {
   "cell_type": "code",
   "execution_count": 7,
   "metadata": {},
   "outputs": [],
   "source": [
    "# NLTK Stop words\n",
    "from nltk.corpus import stopwords\n",
    "stop_words = stopwords.words('english') + stopwords.words('spanish') + stopwords.words('french')\n",
    "stop_words.extend(['doi', 'preprint', 'copyright', 'peer', 'reviewed', 'org', 'https', 'et', 'al', 'author', 'figure', 'rights', 'reserved', 'permission', 'used', 'using', 'biorxiv', 'medrxiv', 'license', 'fig', 'fig.', 'al.', 'Elsevier', 'PMC', 'CZI'])\n",
    "# Remove Stop Words\n",
    "data_words_nostops = remove_stopwords(words)\n",
    "# Form Bigrams\n",
    "data_words_bigrams = make_bigrams(data_words_nostops)"
   ]
  },
  {
   "cell_type": "code",
   "execution_count": 9,
   "metadata": {},
   "outputs": [],
   "source": [
    "\n",
    "# Initialize spacy 'en' model, keeping only tagger component (for efficiency)\n",
    "\n",
    "#nlp = spacy.load('en', disable=['parser', 'ner'])\n",
    "nlp = spacy.load(\"en_core_web_sm\")\n",
    "nlp.max_length = 1900000 # increased for size of body texgt \n",
    "# Do lemmatization keeping only noun, adj, vb, adv\n",
    "data_lemmatized = lemmatization(data_words_bigrams, allowed_postags=['NOUN', 'ADJ', 'VERB', 'ADV'])"
   ]
  },
  {
   "cell_type": "code",
   "execution_count": 10,
   "metadata": {},
   "outputs": [],
   "source": [
    "# Create Dictionary\n",
    "id2word = corpora.Dictionary(data_lemmatized)\n",
    "\n",
    "# Create Corpus\n",
    "texts = data_lemmatized\n",
    "\n",
    "# Term Document Frequency\n",
    "corpus = [id2word.doc2bow(text) for text in texts]"
   ]
  },
  {
   "cell_type": "code",
   "execution_count": 11,
   "metadata": {},
   "outputs": [],
   "source": [
    "lda_model = gensim.models.ldamodel.LdaModel(corpus=corpus,\n",
    "                                           id2word=id2word,\n",
    "                                           num_topics=20, \n",
    "                                           update_every=1,\n",
    "                                           chunksize=8000,\n",
    "                                           passes=4,\n",
    "                                           iterations=400, \n",
    "                                           eval_every=None,\n",
    "                                           alpha='auto',\n",
    "                                           per_word_topics=True)"
   ]
  },
  {
   "cell_type": "code",
   "execution_count": 12,
   "metadata": {},
   "outputs": [
    {
     "name": "stdout",
     "output_type": "stream",
     "text": [
      "[(0,\n",
      "  '0.032*\"protein\" + 0.009*\"plant\" + 0.008*\"cell\" + 0.007*\"vaccine\" + '\n",
      "  '0.007*\"virus\" + 0.007*\"produce\" + 0.006*\"report\" + 0.006*\"expression\" + '\n",
      "  '0.006*\"may\" + 0.005*\"production\"'),\n",
      " (1,\n",
      "  '0.010*\"show\" + 0.010*\"protein\" + 0.010*\"variant\" + 0.009*\"mutation\" + '\n",
      "  '0.008*\"condition\" + 0.008*\"phase\" + 0.007*\"temperature\" + 0.006*\"study\" + '\n",
      "  '0.006*\"velocity\" + 0.006*\"thermal\"'),\n",
      " (2,\n",
      "  '0.023*\"protein\" + 0.014*\"cell\" + 0.009*\"infection\" + 0.008*\"viral\" + '\n",
      "  '0.008*\"virus\" + 0.008*\"cchfv\" + 0.007*\"activity\" + 0.005*\"group\" + '\n",
      "  '0.005*\"show\" + 0.005*\"bind\"'),\n",
      " (3,\n",
      "  '0.013*\"sample\" + 0.010*\"virus\" + 0.008*\"test\" + 0.007*\"result\" + '\n",
      "  '0.007*\"sequence\" + 0.007*\"base\" + 0.007*\"analysis\" + 0.007*\"model\" + '\n",
      "  '0.006*\"also\" + 0.006*\"show\"'),\n",
      " (4,\n",
      "  '0.045*\"cell\" + 0.026*\"virus\" + 0.014*\"infection\" + 0.010*\"viral\" + '\n",
      "  '0.009*\"macrophage\" + 0.008*\"show\" + 0.008*\"antibody\" + 0.007*\"infect\" + '\n",
      "  '0.005*\"also\" + 0.005*\"replication\"'),\n",
      " (5,\n",
      "  '0.008*\"datum\" + 0.008*\"case\" + 0.007*\"country\" + 0.007*\"level\" + '\n",
      "  '0.007*\"study\" + 0.007*\"report\" + 0.006*\"virus\" + 0.006*\"system\" + '\n",
      "  '0.006*\"disease\" + 0.006*\"also\"'),\n",
      " (6,\n",
      "  '0.014*\"patient\" + 0.010*\"case\" + 0.007*\"system\" + 0.006*\"also\" + '\n",
      "  '0.006*\"dengue\" + 0.006*\"resource\" + 0.005*\"care\" + 0.005*\"country\" + '\n",
      "  '0.005*\"may\" + 0.005*\"infection\"'),\n",
      " (7,\n",
      "  '0.017*\"cell\" + 0.012*\"virus\" + 0.008*\"activity\" + 0.008*\"show\" + '\n",
      "  '0.008*\"protein\" + 0.007*\"study\" + 0.006*\"respirator\" + 0.006*\"infection\" + '\n",
      "  '0.005*\"also\" + 0.005*\"cry\"'),\n",
      " (8,\n",
      "  '0.018*\"city\" + 0.014*\"infection\" + 0.012*\"virus\" + 0.007*\"model\" + '\n",
      "  '0.007*\"study\" + 0.007*\"number\" + 0.007*\"disease\" + 0.006*\"rate\" + '\n",
      "  '0.006*\"system\" + 0.006*\"population\"'),\n",
      " (9,\n",
      "  '0.030*\"protein\" + 0.014*\"bind\" + 0.008*\"structure\" + 0.008*\"search\" + '\n",
      "  '0.007*\"site\" + 0.007*\"rank\" + 0.007*\"crp\" + 0.007*\"surface\" + '\n",
      "  '0.007*\"solution\" + 0.006*\"present\"'),\n",
      " (10,\n",
      "  '0.015*\"cell\" + 0.011*\"infection\" + 0.008*\"virus\" + 0.006*\"study\" + '\n",
      "  '0.006*\"human\" + 0.006*\"also\" + 0.006*\"viral\" + 0.005*\"disease\" + '\n",
      "  '0.005*\"report\" + 0.005*\"may\"'),\n",
      " (11,\n",
      "  '0.011*\"study\" + 0.009*\"infection\" + 0.008*\"virus\" + 0.008*\"patient\" + '\n",
      "  '0.007*\"viral\" + 0.007*\"vaccine\" + 0.006*\"may\" + 0.005*\"protein\" + '\n",
      "  '0.005*\"cell\" + 0.005*\"also\"'),\n",
      " (12,\n",
      "  '0.011*\"sample\" + 0.010*\"virus\" + 0.010*\"sequence\" + 0.007*\"region\" + '\n",
      "  '0.007*\"study\" + 0.007*\"temperature\" + 0.006*\"show\" + 0.006*\"result\" + '\n",
      "  '0.006*\"positive\" + 0.006*\"high\"'),\n",
      " (13,\n",
      "  '0.014*\"virus\" + 0.013*\"rabie\" + 0.009*\"cell\" + 0.009*\"vaccine\" + '\n",
      "  '0.008*\"reaction\" + 0.007*\"denv\" + 0.007*\"human\" + 0.007*\"infection\" + '\n",
      "  '0.006*\"protein\" + 0.006*\"also\"'),\n",
      " (14,\n",
      "  '0.031*\"group\" + 0.026*\"individual\" + 0.012*\"phenotype\" + 0.011*\"selection\" '\n",
      "  '+ 0.009*\"affect\" + 0.008*\"effect\" + 0.008*\"study\" + 0.007*\"level\" + '\n",
      "  '0.007*\"case\" + 0.006*\"fitness\"'),\n",
      " (15,\n",
      "  '0.008*\"yield\" + 0.007*\"follow\" + 0.007*\"detect\" + 0.007*\"antibody\" + '\n",
      "  '0.006*\"synthesis\" + 0.006*\"give\" + 0.006*\"fetus\" + 0.005*\"result\" + '\n",
      "  '0.005*\"sample\" + 0.005*\"group\"'),\n",
      " (16,\n",
      "  '0.034*\"dog\" + 0.016*\"cat\" + 0.014*\"study\" + 0.009*\"group\" + 0.008*\"report\" '\n",
      "  '+ 0.007*\"compare\" + 0.006*\"case\" + 0.006*\"disclosure\" + 0.006*\"include\" + '\n",
      "  '0.005*\"test\"'),\n",
      " (17,\n",
      "  '0.015*\"patient\" + 0.010*\"sous\" + 0.007*\"traitement\" + 0.006*\"respondent\" + '\n",
      "  '0.006*\"cour\" + 0.005*\"examan\" + 0.005*\"rapporton\" + 0.005*\"autre\" + '\n",
      "  '0.004*\"non\" + 0.004*\"observation\"'),\n",
      " (18,\n",
      "  '0.001*\"fetus\" + 0.001*\"detect\" + 0.001*\"antibody\" + 0.001*\"antibodie\" + '\n",
      "  '0.001*\"sample\" + 0.001*\"virus\" + 0.000*\"bvdv\" + 0.000*\"viral\" + 0.000*\"bhv\" '\n",
      "  '+ 0.000*\"infection\"'),\n",
      " (19,\n",
      "  '0.042*\"cell\" + 0.022*\"protein\" + 0.012*\"virus\" + 0.011*\"expression\" + '\n",
      "  '0.010*\"infection\" + 0.008*\"bag\" + 0.007*\"also\" + 0.006*\"production\" + '\n",
      "  '0.005*\"express\" + 0.005*\"show\"')]\n"
     ]
    }
   ],
   "source": [
    "# Print the Keyword in the 20 topics\n",
    "from pprint import pprint\n",
    "\n",
    "pprint(lda_model.print_topics())\n",
    "doc_lda = lda_model[corpus]"
   ]
  },
  {
   "cell_type": "markdown",
   "metadata": {},
   "source": [
    "\n",
    "Filtering the covid-19 and risk related articles\n",
    "\n"
   ]
  },
  {
   "cell_type": "code",
   "execution_count": 14,
   "metadata": {},
   "outputs": [],
   "source": [
    "covid19_keywords =['sars-cov-2', 'covid-19', '2019-ncov', \n",
    "                   'novel-coronavirus',\n",
    "                   'coronavirus 2019','wuhan pneumonia',\n",
    "                   '2019ncov', 'covid19',\n",
    "                   'sarscov2', 'coronavirus-2019']"
   ]
  },
  {
   "cell_type": "code",
   "execution_count": 15,
   "metadata": {},
   "outputs": [],
   "source": [
    "risk_keywords =['smoking', 'immunosuppress', 'pulmonary', \n",
    "                'pre-existing', 'co-infection', 'neonate',\n",
    "               'pregnant', 'socio-economic',\n",
    "               'economic', 'reproductive number', 'incubation period',\n",
    "               'serial interval', 'transmission', 'hospitalized',\n",
    "               'chronic', 'co-morbidity', 'lung', 'respiratory',\n",
    "               'high-risk', 'pneumonia', 'gastrointestinal']"
   ]
  },
  {
   "cell_type": "markdown",
   "metadata": {},
   "source": [
    "\n",
    "Queries from the task \n",
    "\n"
   ]
  },
  {
   "cell_type": "code",
   "execution_count": 17,
   "metadata": {},
   "outputs": [
    {
     "data": {
      "text/html": [
       "<div>\n",
       "<style scoped>\n",
       "    .dataframe tbody tr th:only-of-type {\n",
       "        vertical-align: middle;\n",
       "    }\n",
       "\n",
       "    .dataframe tbody tr th {\n",
       "        vertical-align: top;\n",
       "    }\n",
       "\n",
       "    .dataframe thead th {\n",
       "        text-align: right;\n",
       "    }\n",
       "</style>\n",
       "<table border=\"1\" class=\"dataframe\">\n",
       "  <thead>\n",
       "    <tr style=\"text-align: right;\">\n",
       "      <th></th>\n",
       "      <th>Queries</th>\n",
       "    </tr>\n",
       "  </thead>\n",
       "  <tbody>\n",
       "    <tr>\n",
       "      <th>0</th>\n",
       "      <td>risk with smoking, vaping, and pre-existing pulmonary disease (copd)</td>\n",
       "    </tr>\n",
       "    <tr>\n",
       "      <th>1</th>\n",
       "      <td>risk with Co-infections (determine whether co-existing respiratory/viral infections make the virus more transmissible or virulent) and other co-morbidities</td>\n",
       "    </tr>\n",
       "    <tr>\n",
       "      <th>2</th>\n",
       "      <td>risks for neonates, newborns, and pregnant women</td>\n",
       "    </tr>\n",
       "    <tr>\n",
       "      <th>3</th>\n",
       "      <td>Socio-economic and behavioral factors to understand the economic impact of the virus and whether there were differences.</td>\n",
       "    </tr>\n",
       "    <tr>\n",
       "      <th>4</th>\n",
       "      <td>Transmission dynamics of the virus, including the basic reproductive number, incubation period, serial interval, modes of transmission and environmental factors</td>\n",
       "    </tr>\n",
       "    <tr>\n",
       "      <th>5</th>\n",
       "      <td>Severity of disease, including risk of fatality among symptomatic hospitalized patients, and high-risk patient groups</td>\n",
       "    </tr>\n",
       "    <tr>\n",
       "      <th>6</th>\n",
       "      <td>Populations that are more susceptible to the disease</td>\n",
       "    </tr>\n",
       "    <tr>\n",
       "      <th>7</th>\n",
       "      <td>Public health mitigation measures that could be effective for control</td>\n",
       "    </tr>\n",
       "  </tbody>\n",
       "</table>\n",
       "</div>"
      ],
      "text/plain": [
       "                                                                                                                                                            Queries\n",
       "0  risk with smoking, vaping, and pre-existing pulmonary disease (copd)                                                                                            \n",
       "1  risk with Co-infections (determine whether co-existing respiratory/viral infections make the virus more transmissible or virulent) and other co-morbidities     \n",
       "2  risks for neonates, newborns, and pregnant women                                                                                                                \n",
       "3  Socio-economic and behavioral factors to understand the economic impact of the virus and whether there were differences.                                        \n",
       "4  Transmission dynamics of the virus, including the basic reproductive number, incubation period, serial interval, modes of transmission and environmental factors\n",
       "5  Severity of disease, including risk of fatality among symptomatic hospitalized patients, and high-risk patient groups                                           \n",
       "6  Populations that are more susceptible to the disease                                                                                                            \n",
       "7  Public health mitigation measures that could be effective for control                                                                                           "
      ]
     },
     "execution_count": 17,
     "metadata": {},
     "output_type": "execute_result"
    }
   ],
   "source": [
    "queries = pd.read_csv('C:/Users/Revathi/queries.csv')\n",
    "\n",
    "queries.rename(columns={'queries':'Queries'})"
   ]
  },
  {
   "cell_type": "markdown",
   "metadata": {},
   "source": [
    "\n",
    "\n",
    "First, the papers in the subset were split into sentences, and each sentence was embedded using \n",
    "the Universal Sentence Encoder (USE) from Tensorflow .\n",
    "\n",
    "\n",
    "Each sentence was embedded into a 512 length vector .\n",
    "\n"
   ]
  },
  {
   "cell_type": "code",
   "execution_count": 25,
   "metadata": {},
   "outputs": [],
   "source": [
    "import tensorflow as tf\n",
    "import tensorflow_hub as hub\n",
    "\n",
    "from sklearn.neighbors import NearestNeighbors\n",
    "\n",
    "embed = hub.load('https://tfhub.dev/google/universal-sentence-encoder/4')\n",
    "\n",
    "embedded_query = embed(['risk with smoking'])\n",
    "embedded_query = embed(['risks for neonates, newborns, and pregnant women'])\n",
    "\n",
    "\n",
    "knn = NearestNeighbors(n_neighbors=20, algorithm='ball_tree')\n",
    "\n",
    "distances, indices = knn.kneighbors(encoded_query.reshape(1, -1))\n",
    "\n"
   ]
  },
  {
   "cell_type": "markdown",
   "metadata": {},
   "source": [
    "\n",
    "\n",
    "For each of the nearest neighbor sentences,\n",
    "the three sentences before and after it (if those sentences existed) were used to form an excerpt.\n",
    "\n",
    " \n",
    "HuggingFace Pytorch Transformers library. It works by embedding the sentences, \n",
    "running a clustering algorithm (kmeans), and finding the sentences that are closest to the cluster's centroids.\n",
    "\n"
   ]
  },
  {
   "cell_type": "code",
   "execution_count": 20,
   "metadata": {
    "scrolled": true
   },
   "outputs": [
    {
     "data": {
      "text/html": [
       "<div>\n",
       "<style scoped>\n",
       "    .dataframe tbody tr th:only-of-type {\n",
       "        vertical-align: middle;\n",
       "    }\n",
       "\n",
       "    .dataframe tbody tr th {\n",
       "        vertical-align: top;\n",
       "    }\n",
       "\n",
       "    .dataframe thead th {\n",
       "        text-align: right;\n",
       "    }\n",
       "</style>\n",
       "<table border=\"1\" class=\"dataframe\">\n",
       "  <thead>\n",
       "    <tr style=\"text-align: right;\">\n",
       "      <th></th>\n",
       "      <th>Query</th>\n",
       "      <th>Excerpt</th>\n",
       "    </tr>\n",
       "  </thead>\n",
       "  <tbody>\n",
       "    <tr>\n",
       "      <th>40</th>\n",
       "      <td>risks for neonates, newborns, and pregnant women</td>\n",
       "      <td>In this retrospective analysis from five hospitals, we included pregnant women with Covid-19 from January 1 to February 20, 2020. The primary composite endpoints were admission to an intensive care unit (ICU), the use of mechanical ventilation, or death. Secondary endpoints included the clinical severity of Covid-19, neonatal mortality, admission to neonatal intensive care unit (NICU), and the incidence of acute respiratory distress syndrome (ARDS) of pregnant women and newborns. ~~TAG~~ Thirty-three pregnant women with Covid-19 and 28 newborns were identified. ~~TAG~~ One (3%) pregnant woman needed the use of mechanical ventilation. No pregnant women admitted to the ICU. There were no moralities among pregnant women or newborns.</td>\n",
       "    </tr>\n",
       "    <tr>\n",
       "      <th>41</th>\n",
       "      <td>risks for neonates, newborns, and pregnant women</td>\n",
       "      <td>Thirty-three pregnant women with Covid-19 and 28 newborns were identified. One (3%) pregnant woman needed the use of mechanical ventilation. No pregnant women admitted to the ICU. ~~TAG~~ There were no moralities among pregnant women or newborns. ~~TAG~~ The percentages of pregnant women with mild, moderate, and severe symptoms were 13 (39.4%),19(57.6%), and 1(3%). One (3.6%) newborn developed ARDS and was admitted to the NICU. The rate of perinatal transmission of SARS-CoV-2 was 3.6%.</td>\n",
       "    </tr>\n",
       "    <tr>\n",
       "      <th>42</th>\n",
       "      <td>risks for neonates, newborns, and pregnant women</td>\n",
       "      <td>18 Studies have reported that the mortality rate of patients with COVID-19 is about 1·4%. 19 In our study, the maternal, fetal, and neonatal outcomes of pregnant women with COVID-19 pneumonia are better than those with SARS infection. This might be associated with our small number of cases and short delivery time (ie, as soon as possible after diagnosis). ~~TAG~~ Previous studies have shown no evidence of perinatal SARS infection in infants born to mothers who had SARS infection during pregnancy. ~~TAG~~ 18, 20 One neonate in our study was infected with COVID-19 36 h after birth. However, the viral nucleic acid tests of the placenta and cord blood in this patient were negative for SARS-CoV-2, so intrauterine vertical transmission might not have occurred; thus, further study is needed. However, this study has several limitations.</td>\n",
       "    </tr>\n",
       "    <tr>\n",
       "      <th>43</th>\n",
       "      <td>risks for neonates, newborns, and pregnant women</td>\n",
       "      <td>Among the 33 women, 27 women delivered 28 newborns, and the live birth rate was 100%. Five women had ongoing pregnancy without severe obstetrical complications at the time of manuscript preparation. The overall rate of obstetrical complications was 22.2%, including three cases of preterm premature rupture of membranes, two cases of hypertensive diseases of the pregnancy, two cases of gestational diabetes mellitus, and one case of spontaneous preterm labor. ~~TAG~~ Therefore, the obstetrical outcomes from pregnant women with SARS-CoV-2 infection appear better than that for pregnant women with SARS. ~~TAG~~ However, it's worth noting that most pregnant women were infected with SARS-CoV-2 during the third trimester in this study. The gestational age when women are infected may affect obstetrical outcomes. In a review of 11 pregnant women with MERS-CoV infection, the infant death rate was All rights reserved.</td>\n",
       "    </tr>\n",
       "    <tr>\n",
       "      <th>44</th>\n",
       "      <td>risks for neonates, newborns, and pregnant women</td>\n",
       "      <td>The severity of viral pneumonia in pregnancy is evidently related to physiological and immunological changes that result in a shift from cell-mediated to humoral-mediated immunity [7] . When pregnant women become infected with viral pneumonia, they are more likely to have complications and progress to severe cases [8] . A study in Hong Kong in 2004 shows that SARS during pregnancy is associated with high incidences of spontaneous miscarriage, preterm delivery, and intrauterine growth restriction [9] . ~~TAG~~ Another study shows that pregnant women with pneumonia have an increased risk of developing low birth weight infants, preterm births, restricted fetal growth, and 5-minute Apgar score &lt;7 compared to healthy pregnant women [10] . ~~TAG~~ Although there have been no clinical or serological reports of SARS or MERS in neonatal infections in existing studies [9, 17] , evidence of vertical motherto-child transmission in other respiratory viruses such as H1N1 and respiratory syncytial virus (RSV) have been reported [11] . There have been several studies concerning intrauterine vertical transmission potential of COVID-19 and its effects on newborns [12, 13] . All the newborns of COVID-19 infected mothers in these cases were negative for nucleic acid test and one study shows that COVID-19 may have adverse effects on newborns, causing problems such as fetal distress, premature labor, respiratory distress, thrombocytopenia accompanied by abnormal liver function, and even death [13] .</td>\n",
       "    </tr>\n",
       "  </tbody>\n",
       "</table>\n",
       "</div>"
      ],
      "text/plain": [
       "                                               Query  \\\n",
       "40  risks for neonates, newborns, and pregnant women   \n",
       "41  risks for neonates, newborns, and pregnant women   \n",
       "42  risks for neonates, newborns, and pregnant women   \n",
       "43  risks for neonates, newborns, and pregnant women   \n",
       "44  risks for neonates, newborns, and pregnant women   \n",
       "\n",
       "                                                                                                                                                                                                                                                                                                                                                                                                                                                                                                                                                                                                                                                                                                                                                                                                                                                                                                                                                                                                                                                                                                                                                                                                                                                                                                                                                                                                                                                                                                                                                           Excerpt  \n",
       "40  In this retrospective analysis from five hospitals, we included pregnant women with Covid-19 from January 1 to February 20, 2020. The primary composite endpoints were admission to an intensive care unit (ICU), the use of mechanical ventilation, or death. Secondary endpoints included the clinical severity of Covid-19, neonatal mortality, admission to neonatal intensive care unit (NICU), and the incidence of acute respiratory distress syndrome (ARDS) of pregnant women and newborns. ~~TAG~~ Thirty-three pregnant women with Covid-19 and 28 newborns were identified. ~~TAG~~ One (3%) pregnant woman needed the use of mechanical ventilation. No pregnant women admitted to the ICU. There were no moralities among pregnant women or newborns.                                                                                                                                                                                                                                                                                                                                                                                                                                                                                                                                                                                                                                                                                                                                                                                             \n",
       "41  Thirty-three pregnant women with Covid-19 and 28 newborns were identified. One (3%) pregnant woman needed the use of mechanical ventilation. No pregnant women admitted to the ICU. ~~TAG~~ There were no moralities among pregnant women or newborns. ~~TAG~~ The percentages of pregnant women with mild, moderate, and severe symptoms were 13 (39.4%),19(57.6%), and 1(3%). One (3.6%) newborn developed ARDS and was admitted to the NICU. The rate of perinatal transmission of SARS-CoV-2 was 3.6%.                                                                                                                                                                                                                                                                                                                                                                                                                                                                                                                                                                                                                                                                                                                                                                                                                                                                                                                                                                                                                                                      \n",
       "42  18 Studies have reported that the mortality rate of patients with COVID-19 is about 1·4%. 19 In our study, the maternal, fetal, and neonatal outcomes of pregnant women with COVID-19 pneumonia are better than those with SARS infection. This might be associated with our small number of cases and short delivery time (ie, as soon as possible after diagnosis). ~~TAG~~ Previous studies have shown no evidence of perinatal SARS infection in infants born to mothers who had SARS infection during pregnancy. ~~TAG~~ 18, 20 One neonate in our study was infected with COVID-19 36 h after birth. However, the viral nucleic acid tests of the placenta and cord blood in this patient were negative for SARS-CoV-2, so intrauterine vertical transmission might not have occurred; thus, further study is needed. However, this study has several limitations.                                                                                                                                                                                                                                                                                                                                                                                                                                                                                                                                                                                                                                                                                        \n",
       "43  Among the 33 women, 27 women delivered 28 newborns, and the live birth rate was 100%. Five women had ongoing pregnancy without severe obstetrical complications at the time of manuscript preparation. The overall rate of obstetrical complications was 22.2%, including three cases of preterm premature rupture of membranes, two cases of hypertensive diseases of the pregnancy, two cases of gestational diabetes mellitus, and one case of spontaneous preterm labor. ~~TAG~~ Therefore, the obstetrical outcomes from pregnant women with SARS-CoV-2 infection appear better than that for pregnant women with SARS. ~~TAG~~ However, it's worth noting that most pregnant women were infected with SARS-CoV-2 during the third trimester in this study. The gestational age when women are infected may affect obstetrical outcomes. In a review of 11 pregnant women with MERS-CoV infection, the infant death rate was All rights reserved.                                                                                                                                                                                                                                                                                                                                                                                                                                                                                                                                                                                                          \n",
       "44  The severity of viral pneumonia in pregnancy is evidently related to physiological and immunological changes that result in a shift from cell-mediated to humoral-mediated immunity [7] . When pregnant women become infected with viral pneumonia, they are more likely to have complications and progress to severe cases [8] . A study in Hong Kong in 2004 shows that SARS during pregnancy is associated with high incidences of spontaneous miscarriage, preterm delivery, and intrauterine growth restriction [9] . ~~TAG~~ Another study shows that pregnant women with pneumonia have an increased risk of developing low birth weight infants, preterm births, restricted fetal growth, and 5-minute Apgar score <7 compared to healthy pregnant women [10] . ~~TAG~~ Although there have been no clinical or serological reports of SARS or MERS in neonatal infections in existing studies [9, 17] , evidence of vertical motherto-child transmission in other respiratory viruses such as H1N1 and respiratory syncytial virus (RSV) have been reported [11] . There have been several studies concerning intrauterine vertical transmission potential of COVID-19 and its effects on newborns [12, 13] . All the newborns of COVID-19 infected mothers in these cases were negative for nucleic acid test and one study shows that COVID-19 may have adverse effects on newborns, causing problems such as fetal distress, premature labor, respiratory distress, thrombocytopenia accompanied by abnormal liver function, and even death [13] .  "
      ]
     },
     "execution_count": 20,
     "metadata": {},
     "output_type": "execute_result"
    }
   ],
   "source": [
    "\n",
    "top5 = use_and_bm25[use_and_bm25['task_id'] == 2].head(5)[['task_text_x','excerpt']]\n",
    "\n",
    "top5.rename(columns={'task_text_x':'Query', 'excerpt':'Excerpt'})"
   ]
  },
  {
   "cell_type": "code",
   "execution_count": 54,
   "metadata": {},
   "outputs": [],
   "source": [
    "from summarizer import Summarizer\n",
    "\n",
    "input_tag_sentences = [\n",
    "\n",
    "    \" Pregnant women are susceptible population of SARS-CoV-2 which are more likely to have complications and even progresse to severe illness. \",\n",
    "    \" Pregnant women are susceptible population of COVID-19 which are more likely to have complications and even progresse to severe illness. \",\n",
    "    \" Another study shows that pregnant women with pneumonia have an increased risk of developing low birth weight infants, preterm births, restricted fetal growth, and 5-minute Apgar score <7 compared to healthy pregnant women [10] . \",\n",
    "    \" There is little information about effects of COVID-19 on Pregnant women and newborns as a sensitive population. \",\n",
    "    \" When a baby is born vaginally it is exposed to the mother\\'s gut microbiome, therefore if a baby does get infected with coronavirus a few days after birth we currently cannot tell if the baby was infected in the womb or during birth. \",\n",
    "    \" It is known that pregnant women are potentially at increased risk of complications from any respiratory disease due to the physiological changes that occur in pregnancy. \",\n",
    "    \" There is evidence that the use of corticosteroids during pregnancy increase the risk of preterm birth, low birthweight and preeclampsia 34 . \",\n",
    "    \" The COVID-19 infection during pregnancy also increase risks of several adverse outcomes, including higher rates of C-section delivery, low birth weight, and preterm birth. \",\n",
    "    \" treatments, and pregnancy outcomes for the women who have been infected with COVID-19 during their pregnancy. \",\n",
    "    \" An increasing proportion of the women are now infected with this virus during their pregnancy, which may put them in danger in terms of adverse maternal and newborn outcomes. \",\n",
    "    \" Women during pregnancy often face several pregnancy related complications and more susceptible to respiratory pathogens that may put them at higher risk of adverse . \"\n",
    "\n",
    "model = Summarizer()\n",
    "result = model(''.join(input_tag_sentences))\n",
    "output_text_summary = ''.join(result)"
   ]
  },
  {
   "cell_type": "code",
   "execution_count": 52,
   "metadata": {
    "scrolled": true
   },
   "outputs": [
    {
     "data": {
      "text/html": [
       "<div>\n",
       "<style scoped>\n",
       "    .dataframe tbody tr th:only-of-type {\n",
       "        vertical-align: middle;\n",
       "    }\n",
       "\n",
       "    .dataframe tbody tr th {\n",
       "        vertical-align: top;\n",
       "    }\n",
       "\n",
       "    .dataframe thead th {\n",
       "        text-align: right;\n",
       "    }\n",
       "</style>\n",
       "<table border=\"1\" class=\"dataframe\">\n",
       "  <thead>\n",
       "    <tr style=\"text-align: right;\">\n",
       "      <th></th>\n",
       "      <th>Query</th>\n",
       "      <th>Summary</th>\n",
       "      <th>Top 5 Articles</th>\n",
       "    </tr>\n",
       "  </thead>\n",
       "  <tbody>\n",
       "    <tr>\n",
       "      <th>0</th>\n",
       "      <td>risk with smoking, vaping, and pre-existing pulmonary disease (copd)</td>\n",
       "      <td>ACE-2 expression in lower airways is increased in patients with COPD and with current smoking. This could be happening in lung tissue, facilitating ACE2 expression, as observed during lung cancer and COPD. Because individuals with chronic obstructive pulmonary disease (COPD) are at increased risk of severe COVID-19, we determined whether ACE-2 expression in the lower airways was related to COPD and cigarette smoking.</td>\n",
       "      <td>[('ACE-2 Expression in the Small Airway Epithelia of Smokers and COPD Patients: Implications for COVID-19', 'http://doi.org/10.1101/2020.03.18.20038455'), ('ACE2 Expression is Increased in the Lungs of Patients with Comorbidities Associated with Severe COVID-19', 'http://doi.org/10.1101/2020.03.21.20040261'), ('Prevalence, Severity and Mortality associated with COPD and Smoking in patients with COVID-19: A Rapid Systematic Review and Meta-Analysis Authors contributions', 'http://doi.org/10.1101/2020.03.25.20043745'), ('Cigarette smoke triggers the expansion of a subpopulation of respiratory epithelial cells that express the SARS-CoV-2 receptor ACE2', 'http://doi.org/10.1101/2020.03.28.013672'), ('Epidemiological, clinical and virological characteristics of 74 cases of coronavirus-infected disease 2019 (COVID-19) with gastrointestinal symptoms', 'http://doi.org/10.1136/gutjnl-2020-320926')]</td>\n",
       "    </tr>\n",
       "    <tr>\n",
       "      <th>1</th>\n",
       "      <td>risk with Co-infections (determine whether co-existing respiratory/viral infections make the virus more transmissible or virulent) and other co-morbidities</td>\n",
       "      <td>SARS-CoV-2 replication will be boosted leading to exacerbation of symptoms, substantial virus shedding, as well as increased risk for nosocomial transmission and secondary infection. As the virus spreads, research data from Chen et al showed that the initial symptoms of newly infected patients seemed to be more subtle, and the virus may lie in asymptomatic carriers for a long time. The close contact to infected individuals, either asymptomatic or clinical COVID-19 cases, increase the risk of infection.</td>\n",
       "      <td>[('SARS-CoV-2 and COVID-19: The most important research questions', 'http://doi.org/10.1186/s13578-020-00404-4'), ('COVID-19: Knowns, Unknowns, and Questions', 'http://doi.org/10.1128/msphere.00203-20'), ('A Review of Coronavirus Disease-2019 (COVID-19)', 'http://doi.org/10.1007/s12098-020-03263-6'), ('The COVID-19 pandemic and the use of MS disease-modifying therapies', 'http://doi.org/10.1016/j.msard.2020.102073'), ('Title: Antibody responses to SARS-CoV-2 in patients of novel coronavirus disease 2019 Brief Title: Antibody responses in COVID-19 patients Summary Background', 'http://doi.org/10.1101/2020.03.02.20030189')]</td>\n",
       "    </tr>\n",
       "    <tr>\n",
       "      <th>2</th>\n",
       "      <td>risks for neonates, newborns, and pregnant women</td>\n",
       "      <td>The obstetrical outcomes from pregnant women with SARS-CoV-2 infection appear better than that for pregnant women with SARS. There were no moralities among pregnant women or newborns. Anaesthesia-related complications occur more frequently in the COVID-19 parturients and their newborns have a high risk of distress. Pregnant women are susceptible population of COVID-19 which are more likely to have complications and even progresse to severe illness. treatments, and pregnancy outcomes for the women who have been infected with COVID-19 during their pregnancy.</td>\n",
       "      <td>[('Clinical features and the maternal and neonatal outcomes of pregnant women with coronavirus disease 2019', 'http://doi.org/10.1101/2020.03.22.20041061'), ('Clinical features and obstetric and neonatal outcomes of pregnant patients with COVID-19 in Wuhan, China: a retrospective, single-centre, descriptive study', 'http://doi.org/10.1016/s1473-3099(20)30176-6'), ('A case report of neonatal COVID-19 infection in China', 'http://doi.org/10.1093/cid/ciaa225'), ('Anaesthetic managment and clinical outcomes of parturients with COVID-19: a multicentre, retrospective, propensity score matched cohort study Short Title: Obstetric anaesthesia for parturients with COVID-19', 'http://doi.org/10.1101/2020.03.24.20042176'), ('Clinical characteristics of COVID-19 infection in pregnant women: a systematic review and meta-analysis', 'http://doi.org/10.1101/2020.04.05.20053983')]</td>\n",
       "    </tr>\n",
       "    <tr>\n",
       "      <th>3</th>\n",
       "      <td>Socio-economic and behavioral factors to understand the economic impact of the virus and whether there were differences.</td>\n",
       "      <td>There are some similarities and differences in the epidemiology and clinical features between these two viruses and diseases that are caused by these viruses. A main objective of this paper is to quantify the effect of various social and economic factors in mediating the transmission rates of the virus, which may help identify potential behavioral and socioeconomic risk factors for infections. Factors considered in our analysis are the end date of the outbreak, the total number of cases, economic impact, and students' graduation. these parameters vary considering the heterogeneity of the population, location of virus transmission, and socio-economic and political factors [Rabajante, .</td>\n",
       "      <td>[('Systematic Comparison of Two Animal-to-Human Transmitted Human Coronaviruses: SARS-CoV-2 and SARS-CoV', 'http://doi.org/10.3390/v12020244'), ('Lactate dehydrogenase, a Risk Factor of Severe COVID-19 Patients: A Retrospective and Observational Study', 'http://doi.org/10.1101/2020.03.24.20040162'), ('Comment Tackling two pandemics: a plea on World Tuberculosis Day', 'http://doi.org/10.1016/s2213-2600(20)30151-x'), ('Journal Pre-proof Shell disorder analysis predicts greater resilience of the SARS-CoV-2 (COVID-19) outside the body and in body fluids Shell disorder analysis predicts greater resilience of the SARS- CoV-2 (COVID-19) outside the body and in body fluids', 'http://doi.org/10.1016/j.micpath.2020.104177'), ('Tracing DAY-ZERO and Forecasting the Fade out of the COVID-19 Outbreak in Lombardy, Italy: A Compartmental Modelling and Numerical Optimization Approach', 'http://doi.org/10.1101/2020.03.17.20037689')]</td>\n",
       "    </tr>\n",
       "    <tr>\n",
       "      <th>4</th>\n",
       "      <td>Transmission dynamics of the virus, including the basic reproductive number, incubation period, serial interval, modes of transmission and environmental factors</td>\n",
       "      <td>The key problems surrounding this novel virus are as follows: diagnosis, mode of transmission, long incubation period (3 to 14 days), predicting the number of infected cases in the community, and insufficient protection resources due to its pandemic specification. All of the provinces outside Hubei were included in the analysis of demographic characteristics, key time-toevent intervals, incubation period, and serial interval. Increasingly, epidemiological studies are performed in real-time during an outbreak to understand key metrics such as the epidemic's reproduction number, serial interval distribution, incubation period and risk of international spread 2,3. In simplest terms, the reproductive number of a disease is a function of its transmission rate and the duration of infectious period.</td>\n",
       "      <td>[('Temporal dynamics in viral shedding and transmissibility of COVID-19', 'http://doi.org/10.1101/2020.03.15.20036707'), ('Articles Evolving epidemiology and transmission dynamics of coronavirus disease 2019 outside Hubei province, China: a descriptive and modelling study', 'http://doi.org/10.1016/s1473-3099(20)30230-9'), ('A Review of Coronavirus Disease-2019 (COVID-19)', 'http://doi.org/10.1007/s12098-020-03263-6'), ('Epidemiological parameters of coronavirus disease 2019: a pooled analysis of publicly reported individual data of 1155 cases from seven countries Summary Background', 'http://doi.org/10.1101/2020.03.21.20040329'), ('deepMINE -Natural Language Processing based Automatic Literature Mining and Research Summarization for Early-Stage Comprehension in Pandemic Situations specifically for COVID-19', 'http://doi.org/10.1101/2020.03.30.014555')]</td>\n",
       "    </tr>\n",
       "    <tr>\n",
       "      <th>5</th>\n",
       "      <td>Severity of disease, including risk of fatality among symptomatic hospitalized patients, and high-risk patient groups</td>\n",
       "      <td>Liver injury was the most common complication (in 75 patients), followed by acute respiratory distress (in 14 patients) in pneumonia patients. Of these patients, 55 (24.9%) were severe patients and 166 (75.1%) patients were non-severe (Table 1). Lymphopenia was common in patients with COVID-19 and SARS patients, and can be used as an indicator of disease severity and prognosis. Patients at older age and with medical comorbidities are at the most risk of requiring hospitalization, ICU care, and at risk for death.</td>\n",
       "      <td>[('Journal Pre-proof Epidemiological, clinical characteristics of cases of SARS-CoV-2 infection with abnormal imaging findings clinical characteristics of cases of SARS-CoV-2 infection with abnormal imaging findings Epidemiological, clinical characteristics of cases of SARS-CoV-2 infection with abnormal imaging findings', 'http://doi.org/10.1016/j.ijid.2020.03.040'), ('Title: First 12 patients with coronavirus disease', 'http://doi.org/10.1101/2020.03.09.20032896'), ('Clinical features and outcomes of 221 patients with COVID-19 in Wuhan, China', 'http://doi.org/10.1101/2020.03.02.20030452'), ('Reduction of lymphocyte at early stage elevates severity and death risk of COVID-19 patients: a hospital-based case-cohort study', 'http://doi.org/10.1101/2020.04.02.20050955'), ('Clinical characteristics of severe acute respiratory syndrome coronavirus 2 reactivation', 'http://doi.org/10.1016/j.jinf.2020.03.001')]</td>\n",
       "    </tr>\n",
       "    <tr>\n",
       "      <th>6</th>\n",
       "      <td>Populations that are more susceptible to the disease</td>\n",
       "      <td>Disease epidemics ultimately follow a sigmoidal shape, as they approach the carrying capacity of the disease. The epidemic of infectious diseases is a complex spreading process that occurs in population. The disease has 0.9% infection fatality rate meaning that almost one percent of individuals catching it eventually die from the disease.</td>\n",
       "      <td>[('A deductive approach to modeling the spread of COVID-19', 'http://doi.org/10.1101/2020.03.26.20044651'), ('One size does not fit all -Patterns of vulnerability and resilience in the COVID-19 pandemic and why heterogeneity of disease matters', 'http://doi.org/10.1016/j.bbi.2020.03.016'), ('A MODIFIED SEIR MODEL TO PREDICT THE COVID-19 OUTBREAK IN SPAIN: SIMULATING CONTROL SCENARIOS AND MULTI-SCALE EPIDEMICS', 'http://doi.org/10.1101/2020.03.27.20045005'), ('Identification of COVID-19 Can be Quicker through Artificial Intelligence framework using a Mobile Phone-Based Survey in the Populations when Cities/Towns Are Under Quarantine', 'http://doi.org/10.1017/ice.2020.61'), ('Autocatalytic Model for Covid-19 Progression in a Country', 'http://doi.org/10.1101/2020.04.03.20052985')]</td>\n",
       "    </tr>\n",
       "    <tr>\n",
       "      <th>7</th>\n",
       "      <td>Public health mitigation measures that could be effective for control</td>\n",
       "      <td>Infection control measures within the hospital setting and an aggressive public health response might also have prevented further exposures. Effective measures have been taken to control the pandemic in a timely manner, a similar approach in surveillance of the human population could be applicable, and requires public health leadership. In the baseline situation, there is no public health measure to control epidemics (c = 0).</td>\n",
       "      <td>[('First known person-to-person transmission of severe acute respiratory syndrome coronavirus 2 (SARS-CoV-2) in the USA', 'http://doi.org/10.1016/s0140-6736(20)30607-3'), ('Personal View Can we contain the COVID-19 outbreak with the same measures as for SARS?', 'http://doi.org/10.1016/s1473-3099(20)30129-8'), ('Investigation of three clusters of COVID-19 in Singapore: implications for surveillance and response measures', 'http://doi.org/10.1016/s0140-6736(20)30528-6'), ('SARS-CoV-2: an Emerging Coronavirus that Causes a Global Threat', 'http://doi.org/10.7150/ijbs.45053'), (\"Hospital pharmacists' pharmaceutical care for hospitalized patients with COVID-19: Recommendations and guidance from clinical experience\", 'http://doi.org/10.1016/j.sapharm.2020.03.027')]</td>\n",
       "    </tr>\n",
       "  </tbody>\n",
       "</table>\n",
       "</div>"
      ],
      "text/plain": [
       "                                                                                                                                                              Query  \\\n",
       "0  risk with smoking, vaping, and pre-existing pulmonary disease (copd)                                                                                               \n",
       "1  risk with Co-infections (determine whether co-existing respiratory/viral infections make the virus more transmissible or virulent) and other co-morbidities        \n",
       "2  risks for neonates, newborns, and pregnant women                                                                                                                   \n",
       "3  Socio-economic and behavioral factors to understand the economic impact of the virus and whether there were differences.                                           \n",
       "4  Transmission dynamics of the virus, including the basic reproductive number, incubation period, serial interval, modes of transmission and environmental factors   \n",
       "5  Severity of disease, including risk of fatality among symptomatic hospitalized patients, and high-risk patient groups                                              \n",
       "6  Populations that are more susceptible to the disease                                                                                                               \n",
       "7  Public health mitigation measures that could be effective for control                                                                                              \n",
       "\n",
       "                                                                                                                                                                                                                                                                                                                                                                                                                                                                                                                                                                                                                                                                                                                                                                                                                               Summary  \\\n",
       "0  ACE-2 expression in lower airways is increased in patients with COPD and with current smoking. This could be happening in lung tissue, facilitating ACE2 expression, as observed during lung cancer and COPD. Because individuals with chronic obstructive pulmonary disease (COPD) are at increased risk of severe COVID-19, we determined whether ACE-2 expression in the lower airways was related to COPD and cigarette smoking.                                                                                                                                                                                                                                                                                                                                                                                                  \n",
       "1  SARS-CoV-2 replication will be boosted leading to exacerbation of symptoms, substantial virus shedding, as well as increased risk for nosocomial transmission and secondary infection. As the virus spreads, research data from Chen et al showed that the initial symptoms of newly infected patients seemed to be more subtle, and the virus may lie in asymptomatic carriers for a long time. The close contact to infected individuals, either asymptomatic or clinical COVID-19 cases, increase the risk of infection.                                                                                                                                                                                                                                                                                                           \n",
       "2  The obstetrical outcomes from pregnant women with SARS-CoV-2 infection appear better than that for pregnant women with SARS. There were no moralities among pregnant women or newborns. Anaesthesia-related complications occur more frequently in the COVID-19 parturients and their newborns have a high risk of distress. Pregnant women are susceptible population of COVID-19 which are more likely to have complications and even progresse to severe illness. treatments, and pregnancy outcomes for the women who have been infected with COVID-19 during their pregnancy.                                                                                                                                                                                                                                                    \n",
       "3  There are some similarities and differences in the epidemiology and clinical features between these two viruses and diseases that are caused by these viruses. A main objective of this paper is to quantify the effect of various social and economic factors in mediating the transmission rates of the virus, which may help identify potential behavioral and socioeconomic risk factors for infections. Factors considered in our analysis are the end date of the outbreak, the total number of cases, economic impact, and students' graduation. these parameters vary considering the heterogeneity of the population, location of virus transmission, and socio-economic and political factors [Rabajante, .                                                                                                                 \n",
       "4  The key problems surrounding this novel virus are as follows: diagnosis, mode of transmission, long incubation period (3 to 14 days), predicting the number of infected cases in the community, and insufficient protection resources due to its pandemic specification. All of the provinces outside Hubei were included in the analysis of demographic characteristics, key time-toevent intervals, incubation period, and serial interval. Increasingly, epidemiological studies are performed in real-time during an outbreak to understand key metrics such as the epidemic's reproduction number, serial interval distribution, incubation period and risk of international spread 2,3. In simplest terms, the reproductive number of a disease is a function of its transmission rate and the duration of infectious period.   \n",
       "5  Liver injury was the most common complication (in 75 patients), followed by acute respiratory distress (in 14 patients) in pneumonia patients. Of these patients, 55 (24.9%) were severe patients and 166 (75.1%) patients were non-severe (Table 1). Lymphopenia was common in patients with COVID-19 and SARS patients, and can be used as an indicator of disease severity and prognosis. Patients at older age and with medical comorbidities are at the most risk of requiring hospitalization, ICU care, and at risk for death.                                                                                                                                                                                                                                                                                                 \n",
       "6  Disease epidemics ultimately follow a sigmoidal shape, as they approach the carrying capacity of the disease. The epidemic of infectious diseases is a complex spreading process that occurs in population. The disease has 0.9% infection fatality rate meaning that almost one percent of individuals catching it eventually die from the disease.                                                                                                                                                                                                                                                                                                                                                                                                                                                                                  \n",
       "7  Infection control measures within the hospital setting and an aggressive public health response might also have prevented further exposures. Effective measures have been taken to control the pandemic in a timely manner, a similar approach in surveillance of the human population could be applicable, and requires public health leadership. In the baseline situation, there is no public health measure to control epidemics (c = 0).                                                                                                                                                                                                                                                                                                                                                                                         \n",
       "\n",
       "                                                                                                                                                                                                                                                                                                                                                                                                                                                                                                                                                                                                                                                                                                                                                                                                                                                                                                                                                     Top 5 Articles  \n",
       "0  [('ACE-2 Expression in the Small Airway Epithelia of Smokers and COPD Patients: Implications for COVID-19', 'http://doi.org/10.1101/2020.03.18.20038455'), ('ACE2 Expression is Increased in the Lungs of Patients with Comorbidities Associated with Severe COVID-19', 'http://doi.org/10.1101/2020.03.21.20040261'), ('Prevalence, Severity and Mortality associated with COPD and Smoking in patients with COVID-19: A Rapid Systematic Review and Meta-Analysis Authors contributions', 'http://doi.org/10.1101/2020.03.25.20043745'), ('Cigarette smoke triggers the expansion of a subpopulation of respiratory epithelial cells that express the SARS-CoV-2 receptor ACE2', 'http://doi.org/10.1101/2020.03.28.013672'), ('Epidemiological, clinical and virological characteristics of 74 cases of coronavirus-infected disease 2019 (COVID-19) with gastrointestinal symptoms', 'http://doi.org/10.1136/gutjnl-2020-320926')]                            \n",
       "1  [('SARS-CoV-2 and COVID-19: The most important research questions', 'http://doi.org/10.1186/s13578-020-00404-4'), ('COVID-19: Knowns, Unknowns, and Questions', 'http://doi.org/10.1128/msphere.00203-20'), ('A Review of Coronavirus Disease-2019 (COVID-19)', 'http://doi.org/10.1007/s12098-020-03263-6'), ('The COVID-19 pandemic and the use of MS disease-modifying therapies', 'http://doi.org/10.1016/j.msard.2020.102073'), ('Title: Antibody responses to SARS-CoV-2 in patients of novel coronavirus disease 2019 Brief Title: Antibody responses in COVID-19 patients Summary Background', 'http://doi.org/10.1101/2020.03.02.20030189')]                                                                                                                                                                                                                                                                                                             \n",
       "2  [('Clinical features and the maternal and neonatal outcomes of pregnant women with coronavirus disease 2019', 'http://doi.org/10.1101/2020.03.22.20041061'), ('Clinical features and obstetric and neonatal outcomes of pregnant patients with COVID-19 in Wuhan, China: a retrospective, single-centre, descriptive study', 'http://doi.org/10.1016/s1473-3099(20)30176-6'), ('A case report of neonatal COVID-19 infection in China', 'http://doi.org/10.1093/cid/ciaa225'), ('Anaesthetic managment and clinical outcomes of parturients with COVID-19: a multicentre, retrospective, propensity score matched cohort study Short Title: Obstetric anaesthesia for parturients with COVID-19', 'http://doi.org/10.1101/2020.03.24.20042176'), ('Clinical characteristics of COVID-19 infection in pregnant women: a systematic review and meta-analysis', 'http://doi.org/10.1101/2020.04.05.20053983')]                                                       \n",
       "3  [('Systematic Comparison of Two Animal-to-Human Transmitted Human Coronaviruses: SARS-CoV-2 and SARS-CoV', 'http://doi.org/10.3390/v12020244'), ('Lactate dehydrogenase, a Risk Factor of Severe COVID-19 Patients: A Retrospective and Observational Study', 'http://doi.org/10.1101/2020.03.24.20040162'), ('Comment Tackling two pandemics: a plea on World Tuberculosis Day', 'http://doi.org/10.1016/s2213-2600(20)30151-x'), ('Journal Pre-proof Shell disorder analysis predicts greater resilience of the SARS-CoV-2 (COVID-19) outside the body and in body fluids Shell disorder analysis predicts greater resilience of the SARS- CoV-2 (COVID-19) outside the body and in body fluids', 'http://doi.org/10.1016/j.micpath.2020.104177'), ('Tracing DAY-ZERO and Forecasting the Fade out of the COVID-19 Outbreak in Lombardy, Italy: A Compartmental Modelling and Numerical Optimization Approach', 'http://doi.org/10.1101/2020.03.17.20037689')]  \n",
       "4  [('Temporal dynamics in viral shedding and transmissibility of COVID-19', 'http://doi.org/10.1101/2020.03.15.20036707'), ('Articles Evolving epidemiology and transmission dynamics of coronavirus disease 2019 outside Hubei province, China: a descriptive and modelling study', 'http://doi.org/10.1016/s1473-3099(20)30230-9'), ('A Review of Coronavirus Disease-2019 (COVID-19)', 'http://doi.org/10.1007/s12098-020-03263-6'), ('Epidemiological parameters of coronavirus disease 2019: a pooled analysis of publicly reported individual data of 1155 cases from seven countries Summary Background', 'http://doi.org/10.1101/2020.03.21.20040329'), ('deepMINE -Natural Language Processing based Automatic Literature Mining and Research Summarization for Early-Stage Comprehension in Pandemic Situations specifically for COVID-19', 'http://doi.org/10.1101/2020.03.30.014555')]                                                                  \n",
       "5  [('Journal Pre-proof Epidemiological, clinical characteristics of cases of SARS-CoV-2 infection with abnormal imaging findings clinical characteristics of cases of SARS-CoV-2 infection with abnormal imaging findings Epidemiological, clinical characteristics of cases of SARS-CoV-2 infection with abnormal imaging findings', 'http://doi.org/10.1016/j.ijid.2020.03.040'), ('Title: First 12 patients with coronavirus disease', 'http://doi.org/10.1101/2020.03.09.20032896'), ('Clinical features and outcomes of 221 patients with COVID-19 in Wuhan, China', 'http://doi.org/10.1101/2020.03.02.20030452'), ('Reduction of lymphocyte at early stage elevates severity and death risk of COVID-19 patients: a hospital-based case-cohort study', 'http://doi.org/10.1101/2020.04.02.20050955'), ('Clinical characteristics of severe acute respiratory syndrome coronavirus 2 reactivation', 'http://doi.org/10.1016/j.jinf.2020.03.001')]             \n",
       "6  [('A deductive approach to modeling the spread of COVID-19', 'http://doi.org/10.1101/2020.03.26.20044651'), ('One size does not fit all -Patterns of vulnerability and resilience in the COVID-19 pandemic and why heterogeneity of disease matters', 'http://doi.org/10.1016/j.bbi.2020.03.016'), ('A MODIFIED SEIR MODEL TO PREDICT THE COVID-19 OUTBREAK IN SPAIN: SIMULATING CONTROL SCENARIOS AND MULTI-SCALE EPIDEMICS', 'http://doi.org/10.1101/2020.03.27.20045005'), ('Identification of COVID-19 Can be Quicker through Artificial Intelligence framework using a Mobile Phone-Based Survey in the Populations when Cities/Towns Are Under Quarantine', 'http://doi.org/10.1017/ice.2020.61'), ('Autocatalytic Model for Covid-19 Progression in a Country', 'http://doi.org/10.1101/2020.04.03.20052985')]                                                                                                                                             \n",
       "7  [('First known person-to-person transmission of severe acute respiratory syndrome coronavirus 2 (SARS-CoV-2) in the USA', 'http://doi.org/10.1016/s0140-6736(20)30607-3'), ('Personal View Can we contain the COVID-19 outbreak with the same measures as for SARS?', 'http://doi.org/10.1016/s1473-3099(20)30129-8'), ('Investigation of three clusters of COVID-19 in Singapore: implications for surveillance and response measures', 'http://doi.org/10.1016/s0140-6736(20)30528-6'), ('SARS-CoV-2: an Emerging Coronavirus that Causes a Global Threat', 'http://doi.org/10.7150/ijbs.45053'), (\"Hospital pharmacists' pharmaceutical care for hospitalized patients with COVID-19: Recommendations and guidance from clinical experience\", 'http://doi.org/10.1016/j.sapharm.2020.03.027')]                                                                                                                                                                 "
      ]
     },
     "execution_count": 52,
     "metadata": {},
     "output_type": "execute_result"
    }
   ],
   "source": [
    "\n",
    "\n",
    "qa_summary = question_answer_summary.rename(columns={'RISK_FACTOR_QUESTION':'Query',\n",
    "                                        'ANSWER_SUMMARY':'Summary',\n",
    "                                        'TOP_5_ARTICLES':'Top 5 Articles'})\n",
    "\n",
    "embedded_query = embed(['risks for neonates, newborns, and pregnant women'])\n",
    "embedded_query = embed(['Socio-economic and behavioral factors to understand the economic impact of the virus and whether there were differences.'])\n",
    "\n",
    "\n",
    "qa_summary[['Query','Summary', \"Top 5 Articles\"]]"
   ]
  },
  {
   "cell_type": "code",
   "execution_count": 76,
   "metadata": {},
   "outputs": [
    {
     "data": {
      "text/plain": [
       "Query             risks for neonates, newborns, and pregnant women                                                                                                                                                                                                                                                                                                                                                                                                                                                                                                                                                                                                                                                                                                                                                                                                                                                           \n",
       "Summary           The obstetrical outcomes from pregnant women with SARS-CoV-2 infection appear better than that for pregnant women with SARS. There were no moralities among pregnant women or newborns. Anaesthesia-related complications occur more frequently in the COVID-19 parturients and their newborns have a high risk of distress. Pregnant women are susceptible population of COVID-19 which are more likely to have complications and even progresse to severe illness. treatments, and pregnancy outcomes for the women who have been infected with COVID-19 during their pregnancy.                                                                                                                                                                                                                                                                                                                         \n",
       "Top 5 Articles    [('Clinical features and the maternal and neonatal outcomes of pregnant women with coronavirus disease 2019', 'http://doi.org/10.1101/2020.03.22.20041061'), ('Clinical features and obstetric and neonatal outcomes of pregnant patients with COVID-19 in Wuhan, China: a retrospective, single-centre, descriptive study', 'http://doi.org/10.1016/s1473-3099(20)30176-6'), ('A case report of neonatal COVID-19 infection in China', 'http://doi.org/10.1093/cid/ciaa225'), ('Anaesthetic managment and clinical outcomes of parturients with COVID-19: a multicentre, retrospective, propensity score matched cohort study Short Title: Obstetric anaesthesia for parturients with COVID-19', 'http://doi.org/10.1101/2020.03.24.20042176'), ('Clinical characteristics of COVID-19 infection in pregnant women: a systematic review and meta-analysis', 'http://doi.org/10.1101/2020.04.05.20053983')]\n",
       "Name: 2, dtype: object"
      ]
     },
     "execution_count": 76,
     "metadata": {},
     "output_type": "execute_result"
    }
   ],
   "source": [
    "risk[['Query','Summary', \"Top 5 Articles\"]]"
   ]
  },
  {
   "cell_type": "code",
   "execution_count": null,
   "metadata": {},
   "outputs": [],
   "source": [
    "\n",
    "Future work\n",
    "\n",
    "We hope to integrate the results of TF-IDF, LDA, and the excerpt extraction more closely with one another.\n",
    "More specifically, TF-IDF and LDA be used to drive the subsetting of articles into meaningful groups. \n",
    "This would hopefully create more reliable and consistent results in the excerpt extraction and text summarization steps.\n",
    "Also automate the task using web applications.\n"
   ]
  }
 ],
 "metadata": {
  "kernelspec": {
   "display_name": "Python 3",
   "language": "python",
   "name": "python3"
  },
  "language_info": {
   "codemirror_mode": {
    "name": "ipython",
    "version": 3
   },
   "file_extension": ".py",
   "mimetype": "text/x-python",
   "name": "python",
   "nbconvert_exporter": "python",
   "pygments_lexer": "ipython3",
   "version": "3.7.3"
  }
 },
 "nbformat": 4,
 "nbformat_minor": 2
}
